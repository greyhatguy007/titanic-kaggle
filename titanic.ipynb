{
 "cells": [
  {
   "cell_type": "code",
   "execution_count": 1,
   "outputs": [
    {
     "name": "stderr",
     "output_type": "stream",
     "text": [
      "2022-07-24 16:20:35.960543: I tensorflow/stream_executor/platform/default/dso_loader.cc:49] Successfully opened dynamic library libcudart.so.10.1\n"
     ]
    }
   ],
   "source": [
    "#importing necessary modules\n",
    "\n",
    "import pandas as pd\n",
    "import tensorflow as tf"
   ],
   "metadata": {
    "collapsed": false,
    "pycharm": {
     "name": "#%%\n"
    }
   }
  },
  {
   "cell_type": "code",
   "execution_count": 2,
   "outputs": [
    {
     "data": {
      "text/plain": "   PassengerId  Survived  Pclass  \\\n0            1         0       3   \n1            2         1       1   \n2            3         1       3   \n3            4         1       1   \n4            5         0       3   \n\n                                                Name     Sex   Age  SibSp  \\\n0                            Braund, Mr. Owen Harris    male  22.0      1   \n1  Cumings, Mrs. John Bradley (Florence Briggs Th...  female  38.0      1   \n2                             Heikkinen, Miss. Laina  female  26.0      0   \n3       Futrelle, Mrs. Jacques Heath (Lily May Peel)  female  35.0      1   \n4                           Allen, Mr. William Henry    male  35.0      0   \n\n   Parch            Ticket     Fare Cabin Embarked  \n0      0         A/5 21171   7.2500   NaN        S  \n1      0          PC 17599  71.2833   C85        C  \n2      0  STON/O2. 3101282   7.9250   NaN        S  \n3      0            113803  53.1000  C123        S  \n4      0            373450   8.0500   NaN        S  ",
      "text/html": "<div>\n<style scoped>\n    .dataframe tbody tr th:only-of-type {\n        vertical-align: middle;\n    }\n\n    .dataframe tbody tr th {\n        vertical-align: top;\n    }\n\n    .dataframe thead th {\n        text-align: right;\n    }\n</style>\n<table border=\"1\" class=\"dataframe\">\n  <thead>\n    <tr style=\"text-align: right;\">\n      <th></th>\n      <th>PassengerId</th>\n      <th>Survived</th>\n      <th>Pclass</th>\n      <th>Name</th>\n      <th>Sex</th>\n      <th>Age</th>\n      <th>SibSp</th>\n      <th>Parch</th>\n      <th>Ticket</th>\n      <th>Fare</th>\n      <th>Cabin</th>\n      <th>Embarked</th>\n    </tr>\n  </thead>\n  <tbody>\n    <tr>\n      <th>0</th>\n      <td>1</td>\n      <td>0</td>\n      <td>3</td>\n      <td>Braund, Mr. Owen Harris</td>\n      <td>male</td>\n      <td>22.0</td>\n      <td>1</td>\n      <td>0</td>\n      <td>A/5 21171</td>\n      <td>7.2500</td>\n      <td>NaN</td>\n      <td>S</td>\n    </tr>\n    <tr>\n      <th>1</th>\n      <td>2</td>\n      <td>1</td>\n      <td>1</td>\n      <td>Cumings, Mrs. John Bradley (Florence Briggs Th...</td>\n      <td>female</td>\n      <td>38.0</td>\n      <td>1</td>\n      <td>0</td>\n      <td>PC 17599</td>\n      <td>71.2833</td>\n      <td>C85</td>\n      <td>C</td>\n    </tr>\n    <tr>\n      <th>2</th>\n      <td>3</td>\n      <td>1</td>\n      <td>3</td>\n      <td>Heikkinen, Miss. Laina</td>\n      <td>female</td>\n      <td>26.0</td>\n      <td>0</td>\n      <td>0</td>\n      <td>STON/O2. 3101282</td>\n      <td>7.9250</td>\n      <td>NaN</td>\n      <td>S</td>\n    </tr>\n    <tr>\n      <th>3</th>\n      <td>4</td>\n      <td>1</td>\n      <td>1</td>\n      <td>Futrelle, Mrs. Jacques Heath (Lily May Peel)</td>\n      <td>female</td>\n      <td>35.0</td>\n      <td>1</td>\n      <td>0</td>\n      <td>113803</td>\n      <td>53.1000</td>\n      <td>C123</td>\n      <td>S</td>\n    </tr>\n    <tr>\n      <th>4</th>\n      <td>5</td>\n      <td>0</td>\n      <td>3</td>\n      <td>Allen, Mr. William Henry</td>\n      <td>male</td>\n      <td>35.0</td>\n      <td>0</td>\n      <td>0</td>\n      <td>373450</td>\n      <td>8.0500</td>\n      <td>NaN</td>\n      <td>S</td>\n    </tr>\n  </tbody>\n</table>\n</div>"
     },
     "execution_count": 2,
     "metadata": {},
     "output_type": "execute_result"
    }
   ],
   "source": [
    "# Loading the datasets\n",
    "\n",
    "train = pd.read_csv(\"train.csv\")\n",
    "test = pd.read_csv(\"test.csv\")\n",
    "\n",
    "train.head()"
   ],
   "metadata": {
    "collapsed": false,
    "pycharm": {
     "name": "#%%\n"
    }
   }
  },
  {
   "cell_type": "code",
   "execution_count": 3,
   "outputs": [
    {
     "data": {
      "text/plain": "       PassengerId    Survived      Pclass         Age       SibSp  \\\ncount   891.000000  891.000000  891.000000  714.000000  891.000000   \nmean    446.000000    0.383838    2.308642   29.699118    0.523008   \nstd     257.353842    0.486592    0.836071   14.526497    1.102743   \nmin       1.000000    0.000000    1.000000    0.420000    0.000000   \n25%     223.500000    0.000000    2.000000   20.125000    0.000000   \n50%     446.000000    0.000000    3.000000   28.000000    0.000000   \n75%     668.500000    1.000000    3.000000   38.000000    1.000000   \nmax     891.000000    1.000000    3.000000   80.000000    8.000000   \n\n            Parch        Fare  \ncount  891.000000  891.000000  \nmean     0.381594   32.204208  \nstd      0.806057   49.693429  \nmin      0.000000    0.000000  \n25%      0.000000    7.910400  \n50%      0.000000   14.454200  \n75%      0.000000   31.000000  \nmax      6.000000  512.329200  ",
      "text/html": "<div>\n<style scoped>\n    .dataframe tbody tr th:only-of-type {\n        vertical-align: middle;\n    }\n\n    .dataframe tbody tr th {\n        vertical-align: top;\n    }\n\n    .dataframe thead th {\n        text-align: right;\n    }\n</style>\n<table border=\"1\" class=\"dataframe\">\n  <thead>\n    <tr style=\"text-align: right;\">\n      <th></th>\n      <th>PassengerId</th>\n      <th>Survived</th>\n      <th>Pclass</th>\n      <th>Age</th>\n      <th>SibSp</th>\n      <th>Parch</th>\n      <th>Fare</th>\n    </tr>\n  </thead>\n  <tbody>\n    <tr>\n      <th>count</th>\n      <td>891.000000</td>\n      <td>891.000000</td>\n      <td>891.000000</td>\n      <td>714.000000</td>\n      <td>891.000000</td>\n      <td>891.000000</td>\n      <td>891.000000</td>\n    </tr>\n    <tr>\n      <th>mean</th>\n      <td>446.000000</td>\n      <td>0.383838</td>\n      <td>2.308642</td>\n      <td>29.699118</td>\n      <td>0.523008</td>\n      <td>0.381594</td>\n      <td>32.204208</td>\n    </tr>\n    <tr>\n      <th>std</th>\n      <td>257.353842</td>\n      <td>0.486592</td>\n      <td>0.836071</td>\n      <td>14.526497</td>\n      <td>1.102743</td>\n      <td>0.806057</td>\n      <td>49.693429</td>\n    </tr>\n    <tr>\n      <th>min</th>\n      <td>1.000000</td>\n      <td>0.000000</td>\n      <td>1.000000</td>\n      <td>0.420000</td>\n      <td>0.000000</td>\n      <td>0.000000</td>\n      <td>0.000000</td>\n    </tr>\n    <tr>\n      <th>25%</th>\n      <td>223.500000</td>\n      <td>0.000000</td>\n      <td>2.000000</td>\n      <td>20.125000</td>\n      <td>0.000000</td>\n      <td>0.000000</td>\n      <td>7.910400</td>\n    </tr>\n    <tr>\n      <th>50%</th>\n      <td>446.000000</td>\n      <td>0.000000</td>\n      <td>3.000000</td>\n      <td>28.000000</td>\n      <td>0.000000</td>\n      <td>0.000000</td>\n      <td>14.454200</td>\n    </tr>\n    <tr>\n      <th>75%</th>\n      <td>668.500000</td>\n      <td>1.000000</td>\n      <td>3.000000</td>\n      <td>38.000000</td>\n      <td>1.000000</td>\n      <td>0.000000</td>\n      <td>31.000000</td>\n    </tr>\n    <tr>\n      <th>max</th>\n      <td>891.000000</td>\n      <td>1.000000</td>\n      <td>3.000000</td>\n      <td>80.000000</td>\n      <td>8.000000</td>\n      <td>6.000000</td>\n      <td>512.329200</td>\n    </tr>\n  </tbody>\n</table>\n</div>"
     },
     "execution_count": 3,
     "metadata": {},
     "output_type": "execute_result"
    }
   ],
   "source": [
    "train.describe()"
   ],
   "metadata": {
    "collapsed": false,
    "pycharm": {
     "name": "#%%\n"
    }
   }
  },
  {
   "cell_type": "code",
   "execution_count": 4,
   "outputs": [
    {
     "data": {
      "text/plain": "PassengerId      0\nSurvived         0\nPclass           0\nName             0\nSex              0\nAge            177\nSibSp            0\nParch            0\nTicket           0\nFare             0\nCabin          687\nEmbarked         2\ndtype: int64"
     },
     "execution_count": 4,
     "metadata": {},
     "output_type": "execute_result"
    }
   ],
   "source": [
    "# Checking Null values\n",
    "\n",
    "train.isnull().sum()"
   ],
   "metadata": {
    "collapsed": false,
    "pycharm": {
     "name": "#%%\n"
    }
   }
  },
  {
   "cell_type": "code",
   "execution_count": 5,
   "outputs": [
    {
     "name": "stdout",
     "output_type": "stream",
     "text": [
      "(714, 8)\n"
     ]
    },
    {
     "data": {
      "text/plain": "   PassengerId  Survived  Pclass     Sex   Age  SibSp  Parch     Fare\n0            1         0       3    male  22.0      1      0   7.2500\n1            2         1       1  female  38.0      1      0  71.2833\n2            3         1       3  female  26.0      0      0   7.9250\n3            4         1       1  female  35.0      1      0  53.1000\n4            5         0       3    male  35.0      0      0   8.0500",
      "text/html": "<div>\n<style scoped>\n    .dataframe tbody tr th:only-of-type {\n        vertical-align: middle;\n    }\n\n    .dataframe tbody tr th {\n        vertical-align: top;\n    }\n\n    .dataframe thead th {\n        text-align: right;\n    }\n</style>\n<table border=\"1\" class=\"dataframe\">\n  <thead>\n    <tr style=\"text-align: right;\">\n      <th></th>\n      <th>PassengerId</th>\n      <th>Survived</th>\n      <th>Pclass</th>\n      <th>Sex</th>\n      <th>Age</th>\n      <th>SibSp</th>\n      <th>Parch</th>\n      <th>Fare</th>\n    </tr>\n  </thead>\n  <tbody>\n    <tr>\n      <th>0</th>\n      <td>1</td>\n      <td>0</td>\n      <td>3</td>\n      <td>male</td>\n      <td>22.0</td>\n      <td>1</td>\n      <td>0</td>\n      <td>7.2500</td>\n    </tr>\n    <tr>\n      <th>1</th>\n      <td>2</td>\n      <td>1</td>\n      <td>1</td>\n      <td>female</td>\n      <td>38.0</td>\n      <td>1</td>\n      <td>0</td>\n      <td>71.2833</td>\n    </tr>\n    <tr>\n      <th>2</th>\n      <td>3</td>\n      <td>1</td>\n      <td>3</td>\n      <td>female</td>\n      <td>26.0</td>\n      <td>0</td>\n      <td>0</td>\n      <td>7.9250</td>\n    </tr>\n    <tr>\n      <th>3</th>\n      <td>4</td>\n      <td>1</td>\n      <td>1</td>\n      <td>female</td>\n      <td>35.0</td>\n      <td>1</td>\n      <td>0</td>\n      <td>53.1000</td>\n    </tr>\n    <tr>\n      <th>4</th>\n      <td>5</td>\n      <td>0</td>\n      <td>3</td>\n      <td>male</td>\n      <td>35.0</td>\n      <td>0</td>\n      <td>0</td>\n      <td>8.0500</td>\n    </tr>\n  </tbody>\n</table>\n</div>"
     },
     "execution_count": 5,
     "metadata": {},
     "output_type": "execute_result"
    }
   ],
   "source": [
    "# Drop unnecessary data\n",
    "\n",
    "X = train.drop([\"Name\", \"Ticket\", \"Cabin\", \"Embarked\"], axis=1).dropna()\n",
    "print(X.shape)\n",
    "X.head()"
   ],
   "metadata": {
    "collapsed": false,
    "pycharm": {
     "name": "#%%\n"
    }
   }
  },
  {
   "cell_type": "code",
   "execution_count": 6,
   "outputs": [
    {
     "data": {
      "text/plain": "   PassengerId  Survived  Pclass  Sex   Age  SibSp  Parch     Fare\n0            1         0       3    1  22.0      1      0   7.2500\n1            2         1       1    0  38.0      1      0  71.2833\n2            3         1       3    0  26.0      0      0   7.9250\n3            4         1       1    0  35.0      1      0  53.1000\n4            5         0       3    1  35.0      0      0   8.0500",
      "text/html": "<div>\n<style scoped>\n    .dataframe tbody tr th:only-of-type {\n        vertical-align: middle;\n    }\n\n    .dataframe tbody tr th {\n        vertical-align: top;\n    }\n\n    .dataframe thead th {\n        text-align: right;\n    }\n</style>\n<table border=\"1\" class=\"dataframe\">\n  <thead>\n    <tr style=\"text-align: right;\">\n      <th></th>\n      <th>PassengerId</th>\n      <th>Survived</th>\n      <th>Pclass</th>\n      <th>Sex</th>\n      <th>Age</th>\n      <th>SibSp</th>\n      <th>Parch</th>\n      <th>Fare</th>\n    </tr>\n  </thead>\n  <tbody>\n    <tr>\n      <th>0</th>\n      <td>1</td>\n      <td>0</td>\n      <td>3</td>\n      <td>1</td>\n      <td>22.0</td>\n      <td>1</td>\n      <td>0</td>\n      <td>7.2500</td>\n    </tr>\n    <tr>\n      <th>1</th>\n      <td>2</td>\n      <td>1</td>\n      <td>1</td>\n      <td>0</td>\n      <td>38.0</td>\n      <td>1</td>\n      <td>0</td>\n      <td>71.2833</td>\n    </tr>\n    <tr>\n      <th>2</th>\n      <td>3</td>\n      <td>1</td>\n      <td>3</td>\n      <td>0</td>\n      <td>26.0</td>\n      <td>0</td>\n      <td>0</td>\n      <td>7.9250</td>\n    </tr>\n    <tr>\n      <th>3</th>\n      <td>4</td>\n      <td>1</td>\n      <td>1</td>\n      <td>0</td>\n      <td>35.0</td>\n      <td>1</td>\n      <td>0</td>\n      <td>53.1000</td>\n    </tr>\n    <tr>\n      <th>4</th>\n      <td>5</td>\n      <td>0</td>\n      <td>3</td>\n      <td>1</td>\n      <td>35.0</td>\n      <td>0</td>\n      <td>0</td>\n      <td>8.0500</td>\n    </tr>\n  </tbody>\n</table>\n</div>"
     },
     "execution_count": 6,
     "metadata": {},
     "output_type": "execute_result"
    }
   ],
   "source": [
    "# Convert Categorical to Numerical\n",
    "\n",
    "X[\"Sex\"].replace(\"male\", 1, inplace = True)\n",
    "X[\"Sex\"].replace(\"female\", 0, inplace = True)\n",
    "X.head()"
   ],
   "metadata": {
    "collapsed": false,
    "pycharm": {
     "name": "#%%\n"
    }
   }
  },
  {
   "cell_type": "code",
   "execution_count": 7,
   "outputs": [
    {
     "data": {
      "text/plain": "(0    0\n 1    1\n 2    1\n 3    1\n 4    0\n Name: Survived, dtype: int64,\n    PassengerId  Pclass  Sex   Age  SibSp  Parch     Fare\n 0            1       3    1  22.0      1      0   7.2500\n 1            2       1    0  38.0      1      0  71.2833\n 2            3       3    0  26.0      0      0   7.9250\n 3            4       1    0  35.0      1      0  53.1000\n 4            5       3    1  35.0      0      0   8.0500)"
     },
     "execution_count": 7,
     "metadata": {},
     "output_type": "execute_result"
    }
   ],
   "source": [
    "## Create result dataset and drop result\n",
    "\n",
    "y = X[\"Survived\"]\n",
    "X.drop([\"Survived\"], axis=1 , inplace=True)\n",
    "y.head(), X.head()"
   ],
   "metadata": {
    "collapsed": false,
    "pycharm": {
     "name": "#%%\n"
    }
   }
  },
  {
   "cell_type": "code",
   "execution_count": 8,
   "outputs": [
    {
     "name": "stderr",
     "output_type": "stream",
     "text": [
      "2022-07-24 16:20:58.419141: I tensorflow/compiler/jit/xla_cpu_device.cc:41] Not creating XLA devices, tf_xla_enable_xla_devices not set\n",
      "2022-07-24 16:20:58.570932: I tensorflow/stream_executor/platform/default/dso_loader.cc:49] Successfully opened dynamic library libcuda.so.1\n",
      "2022-07-24 16:20:58.757133: I tensorflow/stream_executor/cuda/cuda_gpu_executor.cc:941] successful NUMA node read from SysFS had negative value (-1), but there must be at least one NUMA node, so returning NUMA node zero\n",
      "2022-07-24 16:20:58.757455: I tensorflow/core/common_runtime/gpu/gpu_device.cc:1720] Found device 0 with properties: \n",
      "pciBusID: 0000:01:00.0 name: NVIDIA GeForce GTX 1050 computeCapability: 6.1\n",
      "coreClock: 1.493GHz coreCount: 5 deviceMemorySize: 3.95GiB deviceMemoryBandwidth: 104.43GiB/s\n",
      "2022-07-24 16:20:58.757555: I tensorflow/stream_executor/platform/default/dso_loader.cc:49] Successfully opened dynamic library libcudart.so.10.1\n",
      "2022-07-24 16:20:59.369013: I tensorflow/stream_executor/platform/default/dso_loader.cc:49] Successfully opened dynamic library libcublas.so.10\n",
      "2022-07-24 16:20:59.369098: I tensorflow/stream_executor/platform/default/dso_loader.cc:49] Successfully opened dynamic library libcublasLt.so.10\n",
      "2022-07-24 16:20:59.714594: I tensorflow/stream_executor/platform/default/dso_loader.cc:49] Successfully opened dynamic library libcufft.so.10\n",
      "2022-07-24 16:20:59.889941: I tensorflow/stream_executor/platform/default/dso_loader.cc:49] Successfully opened dynamic library libcurand.so.10\n",
      "2022-07-24 16:21:00.448464: I tensorflow/stream_executor/platform/default/dso_loader.cc:49] Successfully opened dynamic library libcusolver.so.10\n",
      "2022-07-24 16:21:00.513653: I tensorflow/stream_executor/platform/default/dso_loader.cc:49] Successfully opened dynamic library libcusparse.so.10\n",
      "2022-07-24 16:21:01.717719: I tensorflow/stream_executor/platform/default/dso_loader.cc:49] Successfully opened dynamic library libcudnn.so.7\n",
      "2022-07-24 16:21:01.718153: I tensorflow/stream_executor/cuda/cuda_gpu_executor.cc:941] successful NUMA node read from SysFS had negative value (-1), but there must be at least one NUMA node, so returning NUMA node zero\n",
      "2022-07-24 16:21:01.718454: I tensorflow/stream_executor/cuda/cuda_gpu_executor.cc:941] successful NUMA node read from SysFS had negative value (-1), but there must be at least one NUMA node, so returning NUMA node zero\n",
      "2022-07-24 16:21:01.718547: I tensorflow/core/common_runtime/gpu/gpu_device.cc:1862] Adding visible gpu devices: 0\n",
      "2022-07-24 16:21:01.719170: I tensorflow/core/platform/cpu_feature_guard.cc:142] This TensorFlow binary is optimized with oneAPI Deep Neural Network Library (oneDNN) to use the following CPU instructions in performance-critical operations:  SSE4.1 SSE4.2 AVX AVX2 FMA\n",
      "To enable them in other operations, rebuild TensorFlow with the appropriate compiler flags.\n",
      "2022-07-24 16:21:01.728961: I tensorflow/compiler/jit/xla_gpu_device.cc:99] Not creating XLA devices, tf_xla_enable_xla_devices not set\n",
      "2022-07-24 16:21:01.729195: I tensorflow/stream_executor/cuda/cuda_gpu_executor.cc:941] successful NUMA node read from SysFS had negative value (-1), but there must be at least one NUMA node, so returning NUMA node zero\n",
      "2022-07-24 16:21:01.729431: I tensorflow/core/common_runtime/gpu/gpu_device.cc:1720] Found device 0 with properties: \n",
      "pciBusID: 0000:01:00.0 name: NVIDIA GeForce GTX 1050 computeCapability: 6.1\n",
      "coreClock: 1.493GHz coreCount: 5 deviceMemorySize: 3.95GiB deviceMemoryBandwidth: 104.43GiB/s\n",
      "2022-07-24 16:21:01.729468: I tensorflow/stream_executor/platform/default/dso_loader.cc:49] Successfully opened dynamic library libcudart.so.10.1\n",
      "2022-07-24 16:21:01.729500: I tensorflow/stream_executor/platform/default/dso_loader.cc:49] Successfully opened dynamic library libcublas.so.10\n",
      "2022-07-24 16:21:01.729514: I tensorflow/stream_executor/platform/default/dso_loader.cc:49] Successfully opened dynamic library libcublasLt.so.10\n",
      "2022-07-24 16:21:01.729527: I tensorflow/stream_executor/platform/default/dso_loader.cc:49] Successfully opened dynamic library libcufft.so.10\n",
      "2022-07-24 16:21:01.729540: I tensorflow/stream_executor/platform/default/dso_loader.cc:49] Successfully opened dynamic library libcurand.so.10\n",
      "2022-07-24 16:21:01.729553: I tensorflow/stream_executor/platform/default/dso_loader.cc:49] Successfully opened dynamic library libcusolver.so.10\n",
      "2022-07-24 16:21:01.729567: I tensorflow/stream_executor/platform/default/dso_loader.cc:49] Successfully opened dynamic library libcusparse.so.10\n",
      "2022-07-24 16:21:01.729581: I tensorflow/stream_executor/platform/default/dso_loader.cc:49] Successfully opened dynamic library libcudnn.so.7\n",
      "2022-07-24 16:21:01.729671: I tensorflow/stream_executor/cuda/cuda_gpu_executor.cc:941] successful NUMA node read from SysFS had negative value (-1), but there must be at least one NUMA node, so returning NUMA node zero\n",
      "2022-07-24 16:21:01.729906: I tensorflow/stream_executor/cuda/cuda_gpu_executor.cc:941] successful NUMA node read from SysFS had negative value (-1), but there must be at least one NUMA node, so returning NUMA node zero\n",
      "2022-07-24 16:21:01.730019: I tensorflow/core/common_runtime/gpu/gpu_device.cc:1862] Adding visible gpu devices: 0\n",
      "2022-07-24 16:21:01.730061: I tensorflow/stream_executor/platform/default/dso_loader.cc:49] Successfully opened dynamic library libcudart.so.10.1\n",
      "2022-07-24 16:21:07.661141: I tensorflow/core/common_runtime/gpu/gpu_device.cc:1261] Device interconnect StreamExecutor with strength 1 edge matrix:\n",
      "2022-07-24 16:21:07.661170: I tensorflow/core/common_runtime/gpu/gpu_device.cc:1267]      0 \n",
      "2022-07-24 16:21:07.661175: I tensorflow/core/common_runtime/gpu/gpu_device.cc:1280] 0:   N \n",
      "2022-07-24 16:21:07.671887: I tensorflow/stream_executor/cuda/cuda_gpu_executor.cc:941] successful NUMA node read from SysFS had negative value (-1), but there must be at least one NUMA node, so returning NUMA node zero\n",
      "2022-07-24 16:21:07.672073: I tensorflow/stream_executor/cuda/cuda_gpu_executor.cc:941] successful NUMA node read from SysFS had negative value (-1), but there must be at least one NUMA node, so returning NUMA node zero\n",
      "2022-07-24 16:21:07.672199: I tensorflow/stream_executor/cuda/cuda_gpu_executor.cc:941] successful NUMA node read from SysFS had negative value (-1), but there must be at least one NUMA node, so returning NUMA node zero\n",
      "2022-07-24 16:21:07.672296: I tensorflow/core/common_runtime/gpu/gpu_device.cc:1406] Created TensorFlow device (/job:localhost/replica:0/task:0/device:GPU:0 with 3578 MB memory) -> physical GPU (device: 0, name: NVIDIA GeForce GTX 1050, pci bus id: 0000:01:00.0, compute capability: 6.1)\n"
     ]
    }
   ],
   "source": [
    "# Creating The Model\n",
    "\n",
    "model = tf.keras.Sequential([\n",
    "    tf.keras.layers.Dense(8, activation=tf.keras.activations.linear),\n",
    "    tf.keras.layers.Dense(4, activation=tf.keras.activations.linear),\n",
    "    tf.keras.layers.Dense(1, activation=tf.keras.activations.sigmoid)\n",
    "    ], name=\"Titanic-Model\")"
   ],
   "metadata": {
    "collapsed": false,
    "pycharm": {
     "name": "#%%\n"
    }
   }
  },
  {
   "cell_type": "code",
   "execution_count": 20,
   "outputs": [],
   "source": [
    "# Compile the model\n",
    "\n",
    "model.compile(optimizer=tf.keras.optimizers.Adam(), loss=tf.keras.losses.binary_crossentropy, metrics=[\"accuracy\"])"
   ],
   "metadata": {
    "collapsed": false,
    "pycharm": {
     "name": "#%%\n"
    }
   }
  },
  {
   "cell_type": "code",
   "execution_count": 21,
   "outputs": [
    {
     "name": "stdout",
     "output_type": "stream",
     "text": [
      "Epoch 1/200\n",
      "23/23 [==============================] - 0s 1ms/step - loss: 29.0949 - accuracy: 0.5957\n",
      "Epoch 2/200\n",
      "23/23 [==============================] - 0s 1ms/step - loss: 22.8494 - accuracy: 0.4715\n",
      "Epoch 3/200\n",
      "23/23 [==============================] - 0s 1ms/step - loss: 18.7492 - accuracy: 0.4826\n",
      "Epoch 4/200\n",
      "23/23 [==============================] - 0s 2ms/step - loss: 16.2610 - accuracy: 0.5047\n",
      "Epoch 5/200\n",
      "23/23 [==============================] - 0s 2ms/step - loss: 13.5797 - accuracy: 0.4814\n",
      "Epoch 6/200\n",
      "23/23 [==============================] - 0s 2ms/step - loss: 12.3882 - accuracy: 0.4451\n",
      "Epoch 7/200\n",
      "23/23 [==============================] - 0s 2ms/step - loss: 9.0123 - accuracy: 0.5059\n",
      "Epoch 8/200\n",
      "23/23 [==============================] - 0s 2ms/step - loss: 6.6594 - accuracy: 0.5057\n",
      "Epoch 9/200\n",
      "23/23 [==============================] - 0s 1ms/step - loss: 5.3607 - accuracy: 0.4805\n",
      "Epoch 10/200\n",
      "23/23 [==============================] - 0s 2ms/step - loss: 2.9499 - accuracy: 0.5243\n",
      "Epoch 11/200\n",
      "23/23 [==============================] - 0s 1ms/step - loss: 1.5132 - accuracy: 0.5440\n",
      "Epoch 12/200\n",
      "23/23 [==============================] - 0s 1ms/step - loss: 0.9810 - accuracy: 0.6143\n",
      "Epoch 13/200\n",
      "23/23 [==============================] - 0s 1ms/step - loss: 0.9067 - accuracy: 0.6420\n",
      "Epoch 14/200\n",
      "23/23 [==============================] - 0s 1ms/step - loss: 0.8902 - accuracy: 0.6184\n",
      "Epoch 15/200\n",
      "23/23 [==============================] - 0s 1ms/step - loss: 0.8040 - accuracy: 0.6534\n",
      "Epoch 16/200\n",
      "23/23 [==============================] - 0s 1ms/step - loss: 0.7883 - accuracy: 0.6565\n",
      "Epoch 17/200\n",
      "23/23 [==============================] - 0s 1ms/step - loss: 0.7495 - accuracy: 0.6743\n",
      "Epoch 18/200\n",
      "23/23 [==============================] - 0s 2ms/step - loss: 0.7166 - accuracy: 0.6645\n",
      "Epoch 19/200\n",
      "23/23 [==============================] - 0s 2ms/step - loss: 0.7183 - accuracy: 0.6586\n",
      "Epoch 20/200\n",
      "23/23 [==============================] - 0s 2ms/step - loss: 0.6818 - accuracy: 0.6841\n",
      "Epoch 21/200\n",
      "23/23 [==============================] - 0s 1ms/step - loss: 0.6389 - accuracy: 0.6929\n",
      "Epoch 22/200\n",
      "23/23 [==============================] - 0s 1ms/step - loss: 0.6893 - accuracy: 0.6657\n",
      "Epoch 23/200\n",
      "23/23 [==============================] - 0s 2ms/step - loss: 0.6151 - accuracy: 0.7018\n",
      "Epoch 24/200\n",
      "23/23 [==============================] - 0s 2ms/step - loss: 0.6317 - accuracy: 0.6923\n",
      "Epoch 25/200\n",
      "23/23 [==============================] - 0s 2ms/step - loss: 0.6202 - accuracy: 0.7124\n",
      "Epoch 26/200\n",
      "23/23 [==============================] - 0s 2ms/step - loss: 0.5814 - accuracy: 0.6721\n",
      "Epoch 27/200\n",
      "23/23 [==============================] - 0s 2ms/step - loss: 0.5824 - accuracy: 0.6937\n",
      "Epoch 28/200\n",
      "23/23 [==============================] - 0s 2ms/step - loss: 0.5935 - accuracy: 0.6911\n",
      "Epoch 29/200\n",
      "23/23 [==============================] - 0s 2ms/step - loss: 0.5923 - accuracy: 0.6972\n",
      "Epoch 30/200\n",
      "23/23 [==============================] - 0s 1ms/step - loss: 0.5612 - accuracy: 0.7363\n",
      "Epoch 31/200\n",
      "23/23 [==============================] - 0s 1ms/step - loss: 0.6337 - accuracy: 0.6883\n",
      "Epoch 32/200\n",
      "23/23 [==============================] - 0s 1ms/step - loss: 0.5548 - accuracy: 0.7235\n",
      "Epoch 33/200\n",
      "23/23 [==============================] - 0s 1ms/step - loss: 0.5944 - accuracy: 0.6967\n",
      "Epoch 34/200\n",
      "23/23 [==============================] - 0s 2ms/step - loss: 0.6585 - accuracy: 0.6580\n",
      "Epoch 35/200\n",
      "23/23 [==============================] - 0s 2ms/step - loss: 0.6201 - accuracy: 0.6898\n",
      "Epoch 36/200\n",
      "23/23 [==============================] - 0s 2ms/step - loss: 0.5615 - accuracy: 0.7279\n",
      "Epoch 37/200\n",
      "23/23 [==============================] - 0s 2ms/step - loss: 0.5709 - accuracy: 0.6981\n",
      "Epoch 38/200\n",
      "23/23 [==============================] - 0s 2ms/step - loss: 0.5433 - accuracy: 0.7165\n",
      "Epoch 39/200\n",
      "23/23 [==============================] - 0s 2ms/step - loss: 0.5711 - accuracy: 0.7019\n",
      "Epoch 40/200\n",
      "23/23 [==============================] - 0s 2ms/step - loss: 0.5410 - accuracy: 0.7404\n",
      "Epoch 41/200\n",
      "23/23 [==============================] - 0s 2ms/step - loss: 0.5303 - accuracy: 0.7501\n",
      "Epoch 42/200\n",
      "23/23 [==============================] - 0s 1ms/step - loss: 0.5336 - accuracy: 0.7580\n",
      "Epoch 43/200\n",
      "23/23 [==============================] - 0s 1ms/step - loss: 0.5575 - accuracy: 0.7092\n",
      "Epoch 44/200\n",
      "23/23 [==============================] - 0s 1ms/step - loss: 0.6447 - accuracy: 0.6528\n",
      "Epoch 45/200\n",
      "23/23 [==============================] - 0s 1ms/step - loss: 0.6339 - accuracy: 0.6988\n",
      "Epoch 46/200\n",
      "23/23 [==============================] - 0s 2ms/step - loss: 0.6257 - accuracy: 0.6887\n",
      "Epoch 47/200\n",
      "23/23 [==============================] - 0s 1ms/step - loss: 0.5592 - accuracy: 0.7164\n",
      "Epoch 48/200\n",
      "23/23 [==============================] - 0s 1ms/step - loss: 0.6538 - accuracy: 0.6490\n",
      "Epoch 49/200\n",
      "23/23 [==============================] - 0s 1ms/step - loss: 0.5343 - accuracy: 0.7027\n",
      "Epoch 50/200\n",
      "23/23 [==============================] - 0s 1ms/step - loss: 0.5371 - accuracy: 0.7458\n",
      "Epoch 51/200\n",
      "23/23 [==============================] - 0s 1ms/step - loss: 0.5260 - accuracy: 0.7427\n",
      "Epoch 52/200\n",
      "23/23 [==============================] - 0s 2ms/step - loss: 0.4988 - accuracy: 0.7746\n",
      "Epoch 53/200\n",
      "23/23 [==============================] - 0s 1ms/step - loss: 0.5142 - accuracy: 0.7659\n",
      "Epoch 54/200\n",
      "23/23 [==============================] - 0s 1ms/step - loss: 0.5496 - accuracy: 0.7495\n",
      "Epoch 55/200\n",
      "23/23 [==============================] - 0s 1ms/step - loss: 0.4725 - accuracy: 0.7693\n",
      "Epoch 56/200\n",
      "23/23 [==============================] - 0s 1ms/step - loss: 0.5771 - accuracy: 0.7194\n",
      "Epoch 57/200\n",
      "23/23 [==============================] - 0s 2ms/step - loss: 0.5548 - accuracy: 0.7203\n",
      "Epoch 58/200\n",
      "23/23 [==============================] - 0s 1ms/step - loss: 0.4963 - accuracy: 0.7602\n",
      "Epoch 59/200\n",
      "23/23 [==============================] - 0s 1ms/step - loss: 0.5288 - accuracy: 0.7380\n",
      "Epoch 60/200\n",
      "23/23 [==============================] - 0s 1ms/step - loss: 0.5451 - accuracy: 0.7386\n",
      "Epoch 61/200\n",
      "23/23 [==============================] - 0s 1ms/step - loss: 0.5176 - accuracy: 0.7339\n",
      "Epoch 62/200\n",
      "23/23 [==============================] - 0s 1ms/step - loss: 0.6444 - accuracy: 0.6962\n",
      "Epoch 63/200\n",
      "23/23 [==============================] - 0s 1ms/step - loss: 0.5387 - accuracy: 0.7461\n",
      "Epoch 64/200\n",
      "23/23 [==============================] - 0s 1ms/step - loss: 0.5063 - accuracy: 0.7631\n",
      "Epoch 65/200\n",
      "23/23 [==============================] - 0s 1ms/step - loss: 0.5261 - accuracy: 0.7580\n",
      "Epoch 66/200\n",
      "23/23 [==============================] - 0s 1ms/step - loss: 0.4967 - accuracy: 0.7859\n",
      "Epoch 67/200\n",
      "23/23 [==============================] - 0s 1ms/step - loss: 0.5277 - accuracy: 0.7486\n",
      "Epoch 68/200\n",
      "23/23 [==============================] - 0s 1ms/step - loss: 0.4836 - accuracy: 0.7889\n",
      "Epoch 69/200\n",
      "23/23 [==============================] - 0s 1ms/step - loss: 0.5037 - accuracy: 0.7652\n",
      "Epoch 70/200\n",
      "23/23 [==============================] - 0s 1ms/step - loss: 0.5313 - accuracy: 0.7287\n",
      "Epoch 71/200\n",
      "23/23 [==============================] - 0s 2ms/step - loss: 0.5200 - accuracy: 0.7491\n",
      "Epoch 72/200\n",
      "23/23 [==============================] - 0s 1ms/step - loss: 0.5526 - accuracy: 0.7559\n",
      "Epoch 73/200\n",
      "23/23 [==============================] - 0s 1ms/step - loss: 0.4718 - accuracy: 0.7878\n",
      "Epoch 74/200\n",
      "23/23 [==============================] - 0s 1ms/step - loss: 0.5016 - accuracy: 0.7890\n",
      "Epoch 75/200\n",
      "23/23 [==============================] - 0s 1ms/step - loss: 0.4640 - accuracy: 0.8009\n",
      "Epoch 76/200\n",
      "23/23 [==============================] - 0s 2ms/step - loss: 0.5502 - accuracy: 0.7397\n",
      "Epoch 77/200\n",
      "23/23 [==============================] - 0s 1ms/step - loss: 0.5191 - accuracy: 0.7628\n",
      "Epoch 78/200\n",
      "23/23 [==============================] - 0s 1ms/step - loss: 0.6518 - accuracy: 0.6952\n",
      "Epoch 79/200\n",
      "23/23 [==============================] - 0s 1ms/step - loss: 0.4947 - accuracy: 0.7665\n",
      "Epoch 80/200\n",
      "23/23 [==============================] - 0s 1ms/step - loss: 0.5572 - accuracy: 0.7515\n",
      "Epoch 81/200\n",
      "23/23 [==============================] - 0s 1ms/step - loss: 0.6123 - accuracy: 0.7057\n",
      "Epoch 82/200\n",
      "23/23 [==============================] - 0s 1ms/step - loss: 0.5684 - accuracy: 0.7358\n",
      "Epoch 83/200\n",
      "23/23 [==============================] - 0s 1ms/step - loss: 0.4966 - accuracy: 0.7879\n",
      "Epoch 84/200\n",
      "23/23 [==============================] - 0s 2ms/step - loss: 0.4731 - accuracy: 0.7797\n",
      "Epoch 85/200\n",
      "23/23 [==============================] - 0s 2ms/step - loss: 0.4730 - accuracy: 0.7877\n",
      "Epoch 86/200\n",
      "23/23 [==============================] - 0s 2ms/step - loss: 0.5725 - accuracy: 0.7184\n",
      "Epoch 87/200\n",
      "23/23 [==============================] - 0s 1ms/step - loss: 0.7527 - accuracy: 0.6786\n",
      "Epoch 88/200\n",
      "23/23 [==============================] - 0s 2ms/step - loss: 0.4868 - accuracy: 0.7878\n",
      "Epoch 89/200\n",
      "23/23 [==============================] - 0s 2ms/step - loss: 0.4868 - accuracy: 0.7955\n",
      "Epoch 90/200\n",
      "23/23 [==============================] - 0s 2ms/step - loss: 0.5247 - accuracy: 0.7493\n",
      "Epoch 91/200\n",
      "23/23 [==============================] - 0s 2ms/step - loss: 0.5613 - accuracy: 0.7245\n",
      "Epoch 92/200\n",
      "23/23 [==============================] - 0s 1ms/step - loss: 0.5643 - accuracy: 0.7197\n",
      "Epoch 93/200\n",
      "23/23 [==============================] - 0s 2ms/step - loss: 0.4657 - accuracy: 0.8251\n",
      "Epoch 94/200\n",
      "23/23 [==============================] - 0s 1ms/step - loss: 0.6338 - accuracy: 0.6963\n",
      "Epoch 95/200\n",
      "23/23 [==============================] - 0s 2ms/step - loss: 0.4693 - accuracy: 0.7938\n",
      "Epoch 96/200\n",
      "23/23 [==============================] - 0s 1ms/step - loss: 0.4615 - accuracy: 0.7805\n",
      "Epoch 97/200\n",
      "23/23 [==============================] - 0s 1ms/step - loss: 0.5132 - accuracy: 0.7798\n",
      "Epoch 98/200\n",
      "23/23 [==============================] - 0s 1ms/step - loss: 0.5064 - accuracy: 0.7769\n",
      "Epoch 99/200\n",
      "23/23 [==============================] - 0s 1ms/step - loss: 0.4983 - accuracy: 0.7825\n",
      "Epoch 100/200\n",
      "23/23 [==============================] - 0s 1ms/step - loss: 0.5143 - accuracy: 0.8031\n",
      "Epoch 101/200\n",
      "23/23 [==============================] - 0s 1ms/step - loss: 0.4563 - accuracy: 0.7887\n",
      "Epoch 102/200\n",
      "23/23 [==============================] - 0s 1ms/step - loss: 0.5150 - accuracy: 0.7635\n",
      "Epoch 103/200\n",
      "23/23 [==============================] - 0s 2ms/step - loss: 0.5228 - accuracy: 0.7714\n",
      "Epoch 104/200\n",
      "23/23 [==============================] - 0s 2ms/step - loss: 0.5009 - accuracy: 0.7855\n",
      "Epoch 105/200\n",
      "23/23 [==============================] - 0s 2ms/step - loss: 0.4912 - accuracy: 0.7998\n",
      "Epoch 106/200\n",
      "23/23 [==============================] - 0s 1ms/step - loss: 0.4916 - accuracy: 0.7908\n",
      "Epoch 107/200\n",
      "23/23 [==============================] - 0s 1ms/step - loss: 0.5145 - accuracy: 0.7822\n",
      "Epoch 108/200\n",
      "23/23 [==============================] - 0s 1ms/step - loss: 0.4923 - accuracy: 0.7645\n",
      "Epoch 109/200\n",
      "23/23 [==============================] - 0s 1ms/step - loss: 0.5591 - accuracy: 0.7453\n",
      "Epoch 110/200\n",
      "23/23 [==============================] - 0s 1ms/step - loss: 0.5979 - accuracy: 0.7050\n",
      "Epoch 111/200\n",
      "23/23 [==============================] - 0s 2ms/step - loss: 0.6945 - accuracy: 0.6845\n",
      "Epoch 112/200\n",
      "23/23 [==============================] - 0s 2ms/step - loss: 0.5661 - accuracy: 0.7379\n",
      "Epoch 113/200\n",
      "23/23 [==============================] - 0s 1ms/step - loss: 0.5837 - accuracy: 0.7289\n",
      "Epoch 114/200\n",
      "23/23 [==============================] - 0s 1ms/step - loss: 0.5691 - accuracy: 0.7371\n",
      "Epoch 115/200\n",
      "23/23 [==============================] - 0s 1ms/step - loss: 0.5067 - accuracy: 0.7853\n",
      "Epoch 116/200\n",
      "23/23 [==============================] - 0s 1ms/step - loss: 0.4511 - accuracy: 0.8115\n",
      "Epoch 117/200\n",
      "23/23 [==============================] - 0s 1ms/step - loss: 0.5320 - accuracy: 0.7619\n",
      "Epoch 118/200\n",
      "23/23 [==============================] - 0s 2ms/step - loss: 0.4883 - accuracy: 0.7703\n",
      "Epoch 119/200\n",
      "23/23 [==============================] - 0s 1ms/step - loss: 0.5039 - accuracy: 0.7879\n",
      "Epoch 120/200\n",
      "23/23 [==============================] - 0s 1ms/step - loss: 0.5032 - accuracy: 0.7708\n",
      "Epoch 121/200\n",
      "23/23 [==============================] - 0s 1ms/step - loss: 0.5028 - accuracy: 0.7780\n",
      "Epoch 122/200\n",
      "23/23 [==============================] - 0s 1ms/step - loss: 0.5328 - accuracy: 0.7631\n",
      "Epoch 123/200\n",
      "23/23 [==============================] - 0s 1ms/step - loss: 0.5347 - accuracy: 0.7674\n",
      "Epoch 124/200\n",
      "23/23 [==============================] - 0s 1ms/step - loss: 0.4607 - accuracy: 0.7999\n",
      "Epoch 125/200\n",
      "23/23 [==============================] - 0s 1ms/step - loss: 0.4793 - accuracy: 0.7874\n",
      "Epoch 126/200\n",
      "23/23 [==============================] - 0s 1ms/step - loss: 0.5102 - accuracy: 0.7663\n",
      "Epoch 127/200\n",
      "23/23 [==============================] - 0s 1ms/step - loss: 0.4918 - accuracy: 0.7860\n",
      "Epoch 128/200\n",
      "23/23 [==============================] - 0s 1ms/step - loss: 0.5206 - accuracy: 0.7733\n",
      "Epoch 129/200\n",
      "23/23 [==============================] - 0s 1ms/step - loss: 0.4708 - accuracy: 0.7812\n",
      "Epoch 130/200\n",
      "23/23 [==============================] - 0s 1ms/step - loss: 0.4466 - accuracy: 0.8046\n",
      "Epoch 131/200\n",
      "23/23 [==============================] - 0s 1ms/step - loss: 0.4957 - accuracy: 0.7901\n",
      "Epoch 132/200\n",
      "23/23 [==============================] - 0s 1ms/step - loss: 0.4919 - accuracy: 0.7913\n",
      "Epoch 133/200\n",
      "23/23 [==============================] - 0s 2ms/step - loss: 0.4537 - accuracy: 0.8167\n",
      "Epoch 134/200\n",
      "23/23 [==============================] - 0s 2ms/step - loss: 0.4900 - accuracy: 0.7856\n",
      "Epoch 135/200\n",
      "23/23 [==============================] - 0s 1ms/step - loss: 0.4698 - accuracy: 0.7873\n",
      "Epoch 136/200\n",
      "23/23 [==============================] - 0s 1ms/step - loss: 0.4646 - accuracy: 0.7973\n",
      "Epoch 137/200\n",
      "23/23 [==============================] - 0s 1ms/step - loss: 0.4911 - accuracy: 0.7866\n",
      "Epoch 138/200\n",
      "23/23 [==============================] - 0s 1ms/step - loss: 0.4509 - accuracy: 0.7973\n",
      "Epoch 139/200\n",
      "23/23 [==============================] - 0s 1ms/step - loss: 0.4893 - accuracy: 0.7886\n",
      "Epoch 140/200\n",
      "23/23 [==============================] - 0s 3ms/step - loss: 0.5357 - accuracy: 0.7365\n",
      "Epoch 141/200\n",
      "23/23 [==============================] - 0s 1ms/step - loss: 0.5093 - accuracy: 0.7723\n",
      "Epoch 142/200\n",
      "23/23 [==============================] - 0s 1ms/step - loss: 0.4913 - accuracy: 0.7880\n",
      "Epoch 143/200\n",
      "23/23 [==============================] - 0s 2ms/step - loss: 0.6112 - accuracy: 0.7047\n",
      "Epoch 144/200\n",
      "23/23 [==============================] - 0s 2ms/step - loss: 0.4724 - accuracy: 0.7904\n",
      "Epoch 145/200\n",
      "23/23 [==============================] - 0s 2ms/step - loss: 0.4810 - accuracy: 0.7847\n",
      "Epoch 146/200\n",
      "23/23 [==============================] - 0s 2ms/step - loss: 0.4704 - accuracy: 0.7941\n",
      "Epoch 147/200\n",
      "23/23 [==============================] - 0s 1ms/step - loss: 0.4841 - accuracy: 0.7842\n",
      "Epoch 148/200\n",
      "23/23 [==============================] - 0s 1ms/step - loss: 0.4538 - accuracy: 0.7966\n",
      "Epoch 149/200\n",
      "23/23 [==============================] - 0s 1ms/step - loss: 0.5331 - accuracy: 0.7535\n",
      "Epoch 150/200\n",
      "23/23 [==============================] - 0s 1ms/step - loss: 0.6566 - accuracy: 0.7083\n",
      "Epoch 151/200\n",
      "23/23 [==============================] - 0s 1ms/step - loss: 0.6621 - accuracy: 0.6853\n",
      "Epoch 152/200\n",
      "23/23 [==============================] - 0s 1ms/step - loss: 0.4891 - accuracy: 0.7764\n",
      "Epoch 153/200\n",
      "23/23 [==============================] - 0s 1ms/step - loss: 0.4915 - accuracy: 0.7812\n",
      "Epoch 154/200\n",
      "23/23 [==============================] - 0s 1ms/step - loss: 0.5058 - accuracy: 0.7759\n",
      "Epoch 155/200\n",
      "23/23 [==============================] - 0s 1ms/step - loss: 0.5019 - accuracy: 0.7757\n",
      "Epoch 156/200\n",
      "23/23 [==============================] - 0s 2ms/step - loss: 0.5405 - accuracy: 0.7515\n",
      "Epoch 157/200\n",
      "23/23 [==============================] - 0s 1ms/step - loss: 0.5564 - accuracy: 0.7546\n",
      "Epoch 158/200\n",
      "23/23 [==============================] - 0s 1ms/step - loss: 0.4682 - accuracy: 0.7860\n",
      "Epoch 159/200\n",
      "23/23 [==============================] - 0s 2ms/step - loss: 0.5062 - accuracy: 0.7754\n",
      "Epoch 160/200\n",
      "23/23 [==============================] - 0s 1ms/step - loss: 0.4739 - accuracy: 0.7975\n",
      "Epoch 161/200\n",
      "23/23 [==============================] - 0s 1ms/step - loss: 0.4933 - accuracy: 0.7791\n",
      "Epoch 162/200\n",
      "23/23 [==============================] - 0s 1ms/step - loss: 0.5724 - accuracy: 0.7388\n",
      "Epoch 163/200\n",
      "23/23 [==============================] - 0s 1ms/step - loss: 0.5013 - accuracy: 0.7885\n",
      "Epoch 164/200\n",
      "23/23 [==============================] - 0s 1ms/step - loss: 0.4838 - accuracy: 0.7950\n",
      "Epoch 165/200\n",
      "23/23 [==============================] - 0s 1ms/step - loss: 0.4778 - accuracy: 0.7991\n",
      "Epoch 166/200\n",
      "23/23 [==============================] - 0s 1ms/step - loss: 0.4720 - accuracy: 0.7927\n",
      "Epoch 167/200\n",
      "23/23 [==============================] - 0s 1ms/step - loss: 0.5294 - accuracy: 0.7596\n",
      "Epoch 168/200\n",
      "23/23 [==============================] - 0s 1ms/step - loss: 0.4263 - accuracy: 0.8064\n",
      "Epoch 169/200\n",
      "23/23 [==============================] - 0s 1ms/step - loss: 0.5427 - accuracy: 0.7614\n",
      "Epoch 170/200\n",
      "23/23 [==============================] - 0s 1ms/step - loss: 0.4824 - accuracy: 0.7585\n",
      "Epoch 171/200\n",
      "23/23 [==============================] - 0s 1ms/step - loss: 0.4568 - accuracy: 0.8115\n",
      "Epoch 172/200\n",
      "23/23 [==============================] - 0s 1ms/step - loss: 0.4611 - accuracy: 0.7911\n",
      "Epoch 173/200\n",
      "23/23 [==============================] - 0s 1ms/step - loss: 0.4640 - accuracy: 0.8079\n",
      "Epoch 174/200\n",
      "23/23 [==============================] - 0s 1ms/step - loss: 0.4714 - accuracy: 0.7770\n",
      "Epoch 175/200\n",
      "23/23 [==============================] - 0s 1ms/step - loss: 0.5175 - accuracy: 0.7649\n",
      "Epoch 176/200\n",
      "23/23 [==============================] - 0s 1ms/step - loss: 0.4546 - accuracy: 0.8108\n",
      "Epoch 177/200\n",
      "23/23 [==============================] - 0s 1ms/step - loss: 0.5111 - accuracy: 0.7630\n",
      "Epoch 178/200\n",
      "23/23 [==============================] - 0s 1ms/step - loss: 0.4684 - accuracy: 0.7931\n",
      "Epoch 179/200\n",
      "23/23 [==============================] - 0s 1ms/step - loss: 0.4849 - accuracy: 0.8077\n",
      "Epoch 180/200\n",
      "23/23 [==============================] - 0s 1ms/step - loss: 0.4839 - accuracy: 0.7970\n",
      "Epoch 181/200\n",
      "23/23 [==============================] - 0s 1ms/step - loss: 0.5365 - accuracy: 0.7669\n",
      "Epoch 182/200\n",
      "23/23 [==============================] - 0s 1ms/step - loss: 0.4767 - accuracy: 0.8085\n",
      "Epoch 183/200\n",
      "23/23 [==============================] - 0s 2ms/step - loss: 0.4957 - accuracy: 0.7718\n",
      "Epoch 184/200\n",
      "23/23 [==============================] - 0s 2ms/step - loss: 0.5919 - accuracy: 0.7242\n",
      "Epoch 185/200\n",
      "23/23 [==============================] - 0s 2ms/step - loss: 0.4791 - accuracy: 0.7813\n",
      "Epoch 186/200\n",
      "23/23 [==============================] - 0s 2ms/step - loss: 0.4854 - accuracy: 0.7716\n",
      "Epoch 187/200\n",
      "23/23 [==============================] - 0s 2ms/step - loss: 0.5358 - accuracy: 0.7516\n",
      "Epoch 188/200\n",
      "23/23 [==============================] - 0s 1ms/step - loss: 0.5406 - accuracy: 0.7752\n",
      "Epoch 189/200\n",
      "23/23 [==============================] - 0s 2ms/step - loss: 0.4947 - accuracy: 0.7800\n",
      "Epoch 190/200\n",
      "23/23 [==============================] - 0s 1ms/step - loss: 0.4629 - accuracy: 0.7830\n",
      "Epoch 191/200\n",
      "23/23 [==============================] - 0s 1ms/step - loss: 0.4911 - accuracy: 0.7871\n",
      "Epoch 192/200\n",
      "23/23 [==============================] - 0s 1ms/step - loss: 0.4662 - accuracy: 0.8017\n",
      "Epoch 193/200\n",
      "23/23 [==============================] - 0s 1ms/step - loss: 0.5951 - accuracy: 0.7377\n",
      "Epoch 194/200\n",
      "23/23 [==============================] - 0s 1ms/step - loss: 0.5013 - accuracy: 0.7745\n",
      "Epoch 195/200\n",
      "23/23 [==============================] - 0s 2ms/step - loss: 0.5290 - accuracy: 0.7541\n",
      "Epoch 196/200\n",
      "23/23 [==============================] - 0s 1ms/step - loss: 0.4871 - accuracy: 0.7826\n",
      "Epoch 197/200\n",
      "23/23 [==============================] - 0s 1ms/step - loss: 0.4718 - accuracy: 0.7878\n",
      "Epoch 198/200\n",
      "23/23 [==============================] - 0s 2ms/step - loss: 0.5173 - accuracy: 0.7682\n",
      "Epoch 199/200\n",
      "23/23 [==============================] - 0s 2ms/step - loss: 0.6004 - accuracy: 0.6964\n",
      "Epoch 200/200\n",
      "23/23 [==============================] - 0s 1ms/step - loss: 0.5073 - accuracy: 0.7761\n"
     ]
    },
    {
     "data": {
      "text/plain": "<tensorflow.python.keras.callbacks.History at 0x7f347698c850>"
     },
     "execution_count": 21,
     "metadata": {},
     "output_type": "execute_result"
    }
   ],
   "source": [
    "# Train the Model\n",
    "\n",
    "model.fit(X, y, epochs=200)"
   ],
   "metadata": {
    "collapsed": false,
    "pycharm": {
     "name": "#%%\n"
    }
   }
  },
  {
   "cell_type": "code",
   "execution_count": 22,
   "outputs": [
    {
     "name": "stdout",
     "output_type": "stream",
     "text": [
      "23/23 [==============================] - 0s 1ms/step - loss: 0.4810 - accuracy: 0.7801\n"
     ]
    },
    {
     "data": {
      "text/plain": "[0.48103851079940796, 0.7801120281219482]"
     },
     "execution_count": 22,
     "metadata": {},
     "output_type": "execute_result"
    }
   ],
   "source": [
    "model.evaluate(X,y)"
   ],
   "metadata": {
    "collapsed": false,
    "pycharm": {
     "name": "#%%\n"
    }
   }
  },
  {
   "cell_type": "code",
   "execution_count": 23,
   "outputs": [],
   "source": [
    "# Function to load test data\n",
    "\n",
    "def loadtestmodel(f):\n",
    "    testing = pd.read_csv(f)\n",
    "    testing.drop([\"Name\", \"Ticket\", \"Cabin\", \"Embarked\"], axis=1, inplace=True)\n",
    "    testing[\"Sex\"].replace(\"male\", 1, inplace = True)\n",
    "    testing[\"Sex\"].replace(\"female\", 0, inplace = True)\n",
    "    return  testing\n"
   ],
   "metadata": {
    "collapsed": false,
    "pycharm": {
     "name": "#%%\n"
    }
   }
  },
  {
   "cell_type": "code",
   "execution_count": 24,
   "outputs": [],
   "source": [
    "t = loadtestmodel(\"test.csv\")"
   ],
   "metadata": {
    "collapsed": false,
    "pycharm": {
     "name": "#%%\n"
    }
   }
  },
  {
   "cell_type": "code",
   "execution_count": 34,
   "outputs": [
    {
     "data": {
      "text/plain": "(   PassengerId  Pclass  Sex   Age  SibSp  Parch     Fare\n 0          892       3    1  34.5      0      0   7.8292\n 1          893       3    0  47.0      1      0   7.0000\n 2          894       2    1  62.0      0      0   9.6875\n 3          895       3    1  27.0      0      0   8.6625\n 4          896       3    0  22.0      1      1  12.2875,\n (418, 7))"
     },
     "execution_count": 34,
     "metadata": {},
     "output_type": "execute_result"
    }
   ],
   "source": [
    "t.head(), t.shape"
   ],
   "metadata": {
    "collapsed": false,
    "pycharm": {
     "name": "#%%\n"
    }
   }
  },
  {
   "cell_type": "code",
   "execution_count": 27,
   "outputs": [
    {
     "data": {
      "text/plain": "array([[0.3194411 ],\n       [0.771604  ],\n       [0.3420602 ],\n       [0.35379148],\n       [0.8365299 ],\n       [0.41385707],\n       [0.865424  ],\n       [0.4439988 ],\n       [0.8898238 ],\n       [0.27433968],\n       [       nan],\n       [0.59822613],\n       [0.97045046],\n       [0.30274498],\n       [0.94659925],\n       [0.92023104],\n       [0.47572482],\n       [0.38325587],\n       [0.8366107 ],\n       [0.8314504 ],\n       [0.54896736],\n       [0.4065036 ],\n       [       nan],\n       [0.74349964],\n       [0.98419327],\n       [0.22050871],\n       [0.9728406 ],\n       [0.3806174 ],\n       [0.6358614 ],\n       [       nan],\n       [0.36391142],\n       [0.41862088],\n       [0.80717856],\n       [       nan],\n       [0.66413635],\n       [0.40196988],\n       [       nan],\n       [0.8902505 ],\n       [0.3781223 ],\n       [       nan],\n       [0.30273852],\n       [       nan],\n       [0.30854383],\n       [0.9290794 ],\n       [0.94771194],\n       [0.3780541 ],\n       [0.6239603 ],\n       [       nan],\n       [0.957437  ],\n       [0.8423054 ],\n       [0.69863003],\n       [0.5339278 ],\n       [0.894265  ],\n       [0.98296595],\n       [       nan],\n       [0.20313737],\n       [0.33879426],\n       [0.38243568],\n       [       nan],\n       [0.99358857],\n       [0.42056113],\n       [0.5115838 ],\n       [0.41651255],\n       [0.8920525 ],\n       [0.8945729 ],\n       [       nan],\n       [0.89972   ],\n       [0.64659196],\n       [0.69012743],\n       [0.9797861 ],\n       [0.8895583 ],\n       [0.40677142],\n       [0.88040304],\n       [0.70063853],\n       [0.9908976 ],\n       [0.9016638 ],\n       [       nan],\n       [0.90436405],\n       [0.527397  ],\n       [0.8910726 ],\n       [0.39340013],\n       [0.7932584 ],\n       [0.6138874 ],\n       [       nan],\n       [       nan],\n       [       nan],\n       [0.8867517 ],\n       [0.9030609 ],\n       [       nan],\n       [0.580466  ],\n       [0.86977965],\n       [       nan],\n       [0.9571514 ],\n       [       nan],\n       [0.71899813],\n       [0.3983037 ],\n       [0.93118095],\n       [0.38131908],\n       [0.90125376],\n       [0.36462787],\n       [0.95497227],\n       [0.5000502 ],\n       [       nan],\n       [0.39702818],\n       [0.8686922 ],\n       [0.41656262],\n       [0.4212771 ],\n       [       nan],\n       [       nan],\n       [0.5941812 ],\n       [0.49309072],\n       [       nan],\n       [0.9654346 ],\n       [0.90560234],\n       [0.98202765],\n       [0.37730548],\n       [       nan],\n       [0.90553516],\n       [0.76089585],\n       [0.92530185],\n       [0.9555664 ],\n       [       nan],\n       [0.96310747],\n       [0.395225  ],\n       [       nan],\n       [0.906685  ],\n       [0.42502958],\n       [       nan],\n       [0.49211055],\n       [0.41752714],\n       [0.381563  ],\n       [0.6205719 ],\n       [       nan],\n       [       nan],\n       [0.3349714 ],\n       [0.4196755 ],\n       [0.4074021 ],\n       [0.5713562 ],\n       [0.9024608 ],\n       [0.22179258],\n       [0.736739  ],\n       [0.98756266],\n       [0.82709605],\n       [0.58940405],\n       [0.66989475],\n       [0.2169443 ],\n       [       nan],\n       [0.43439442],\n       [       nan],\n       [0.4801974 ],\n       [0.98090804],\n       [       nan],\n       [       nan],\n       [0.8612625 ],\n       [0.20741948],\n       [0.4275196 ],\n       [0.99347574],\n       [0.90517855],\n       [0.6752258 ],\n       [0.8847548 ],\n       [       nan],\n       [0.42257598],\n       [0.94571525],\n       [       nan],\n       [0.5123882 ],\n       [0.8711021 ],\n       [0.69408536],\n       [0.31561288],\n       [       nan],\n       [0.90924776],\n       [       nan],\n       [0.41975352],\n       [0.37712178],\n       [       nan],\n       [0.22955924],\n       [0.95595264],\n       [0.95998013],\n       [0.6119099 ],\n       [0.9295013 ],\n       [0.957156  ],\n       [0.5709479 ],\n       [0.710152  ],\n       [0.974708  ],\n       [       nan],\n       [0.9926098 ],\n       [0.53200406],\n       [0.9501324 ],\n       [0.32835242],\n       [       nan],\n       [0.5278762 ],\n       [0.50525707],\n       [       nan],\n       [0.41340283],\n       [0.42928132],\n       [0.66123503],\n       [0.4034104 ],\n       [0.8922468 ],\n       [0.91829   ],\n       [0.6058579 ],\n       [       nan],\n       [       nan],\n       [0.5197428 ],\n       [0.8784282 ],\n       [0.95046896],\n       [0.5992567 ],\n       [       nan],\n       [0.892095  ],\n       [0.6050286 ],\n       [0.9712867 ],\n       [0.44644535],\n       [0.44235379],\n       [       nan],\n       [0.74283814],\n       [0.8900255 ],\n       [0.6519209 ],\n       [0.7221251 ],\n       [       nan],\n       [0.77175844],\n       [0.98580974],\n       [       nan],\n       [0.92936355],\n       [0.4707115 ],\n       [0.95318365],\n       [0.47106698],\n       [0.9595923 ],\n       [       nan],\n       [0.46292028],\n       [       nan],\n       [0.39656156],\n       [0.56376415],\n       [0.74691147],\n       [0.97767216],\n       [0.396935  ],\n       [       nan],\n       [0.72354466],\n       [0.4810811 ],\n       [0.627753  ],\n       [0.48070776],\n       [0.9383962 ],\n       [0.97336006],\n       [0.9592756 ],\n       [0.9277111 ],\n       [0.7775346 ],\n       [       nan],\n       [       nan],\n       [0.6880941 ],\n       [0.95840025],\n       [0.47829044],\n       [0.9393024 ],\n       [       nan],\n       [0.9559779 ],\n       [0.4881115 ],\n       [0.8498193 ],\n       [0.47277156],\n       [0.43362978],\n       [       nan],\n       [       nan],\n       [0.45315373],\n       [0.95899373],\n       [0.48653224],\n       [0.35926983],\n       [0.4875453 ],\n       [0.9446384 ],\n       [0.92250484],\n       [0.6055336 ],\n       [       nan],\n       [       nan],\n       [       nan],\n       [       nan],\n       [0.511537  ],\n       [0.77385867],\n       [       nan],\n       [0.98674357],\n       [       nan],\n       [       nan],\n       [0.9505691 ],\n       [0.6153178 ],\n       [0.51433897],\n       [0.5522092 ],\n       [0.6430585 ],\n       [0.92234766],\n       [0.5004469 ],\n       [       nan],\n       [0.9155711 ],\n       [0.9280374 ],\n       [0.42615053],\n       [       nan],\n       [0.80594534],\n       [       nan],\n       [       nan],\n       [       nan],\n       [0.9127395 ],\n       [       nan],\n       [0.68476546],\n       [0.43426785],\n       [0.47860458],\n       [0.9631749 ],\n       [       nan],\n       [0.7940031 ],\n       [0.46606293],\n       [0.4522152 ],\n       [       nan],\n       [0.5515375 ],\n       [0.49301827],\n       [       nan],\n       [0.93574595],\n       [0.84213924],\n       [0.5789082 ],\n       [0.70157623],\n       [0.86323076],\n       [0.52445614],\n       [0.50313914],\n       [       nan],\n       [0.90542346],\n       [0.9841925 ],\n       [0.9334874 ],\n       [0.79428536],\n       [0.67064846],\n       [0.48369375],\n       [0.551429  ],\n       [0.48913708],\n       [0.4932366 ],\n       [0.6471571 ],\n       [0.7662415 ],\n       [0.99359554],\n       [0.50410223],\n       [0.94708455],\n       [0.7956942 ],\n       [0.5875712 ],\n       [0.6711631 ],\n       [0.9371202 ],\n       [0.75248295],\n       [       nan],\n       [0.90755755],\n       [0.49067664],\n       [0.7791142 ],\n       [0.6264283 ],\n       [0.38328657],\n       [0.68951446],\n       [       nan],\n       [0.6834604 ],\n       [0.46940777],\n       [       nan],\n       [0.99905795],\n       [       nan],\n       [0.9377096 ],\n       [0.656553  ],\n       [0.90842855],\n       [0.66669315],\n       [0.95868075],\n       [0.97615767],\n       [0.65835625],\n       [0.78301895],\n       [0.5280159 ],\n       [0.9314955 ],\n       [0.7141763 ],\n       [0.945522  ],\n       [       nan],\n       [       nan],\n       [0.90241414],\n       [0.12497718],\n       [0.95301026],\n       [0.9595598 ],\n       [0.50467443],\n       [0.9791877 ],\n       [       nan],\n       [       nan],\n       [0.94717276],\n       [0.97616017],\n       [0.6541759 ],\n       [0.61412436],\n       [0.99076873],\n       [0.681498  ],\n       [0.5873946 ],\n       [0.96831983],\n       [0.99558264],\n       [0.8853114 ],\n       [0.6866546 ],\n       [0.74047554],\n       [0.30989483],\n       [       nan],\n       [0.5156481 ],\n       [       nan],\n       [0.9226324 ],\n       [       nan],\n       [0.9594869 ],\n       [0.52706134],\n       [0.5326726 ],\n       [0.5420212 ],\n       [0.38465083],\n       [0.88249457],\n       [0.9701624 ],\n       [0.5533315 ],\n       [0.5771981 ],\n       [0.29112777],\n       [0.9832602 ],\n       [0.5303369 ],\n       [0.9721466 ],\n       [0.54165095],\n       [0.49943125],\n       [0.99318963],\n       [0.5671151 ],\n       [0.9853284 ],\n       [0.85686034],\n       [0.6982078 ],\n       [0.7048079 ],\n       [0.61797804],\n       [0.8853102 ],\n       [       nan],\n       [0.9372175 ],\n       [       nan],\n       [0.98157   ],\n       [0.9309061 ],\n       [       nan],\n       [0.9878484 ],\n       [0.46987054],\n       [0.        ],\n       [0.        ]], dtype=float32)"
     },
     "execution_count": 27,
     "metadata": {},
     "output_type": "execute_result"
    }
   ],
   "source": [
    "res = model.predict(t)\n",
    "res"
   ],
   "metadata": {
    "collapsed": false,
    "pycharm": {
     "name": "#%%\n"
    }
   }
  },
  {
   "cell_type": "code",
   "execution_count": 48,
   "outputs": [],
   "source": [
    "ans = []\n",
    "for i in res:\n",
    "    if i > 0.5:\n",
    "        ans.append(1)\n",
    "    else:\n",
    "        ans.append(0)"
   ],
   "metadata": {
    "collapsed": false,
    "pycharm": {
     "name": "#%%\n"
    }
   }
  },
  {
   "cell_type": "code",
   "execution_count": 58,
   "outputs": [],
   "source": [
    "test = pd.read_csv(\"test.csv\")"
   ],
   "metadata": {
    "collapsed": false,
    "pycharm": {
     "name": "#%%\n"
    }
   }
  },
  {
   "cell_type": "code",
   "execution_count": 59,
   "outputs": [
    {
     "data": {
      "text/plain": "   PassengerId  Pclass                                          Name     Sex  \\\n0          892       3                              Kelly, Mr. James    male   \n1          893       3              Wilkes, Mrs. James (Ellen Needs)  female   \n2          894       2                     Myles, Mr. Thomas Francis    male   \n3          895       3                              Wirz, Mr. Albert    male   \n4          896       3  Hirvonen, Mrs. Alexander (Helga E Lindqvist)  female   \n\n    Age  SibSp  Parch   Ticket     Fare Cabin Embarked  \n0  34.5      0      0   330911   7.8292   NaN        Q  \n1  47.0      1      0   363272   7.0000   NaN        S  \n2  62.0      0      0   240276   9.6875   NaN        Q  \n3  27.0      0      0   315154   8.6625   NaN        S  \n4  22.0      1      1  3101298  12.2875   NaN        S  ",
      "text/html": "<div>\n<style scoped>\n    .dataframe tbody tr th:only-of-type {\n        vertical-align: middle;\n    }\n\n    .dataframe tbody tr th {\n        vertical-align: top;\n    }\n\n    .dataframe thead th {\n        text-align: right;\n    }\n</style>\n<table border=\"1\" class=\"dataframe\">\n  <thead>\n    <tr style=\"text-align: right;\">\n      <th></th>\n      <th>PassengerId</th>\n      <th>Pclass</th>\n      <th>Name</th>\n      <th>Sex</th>\n      <th>Age</th>\n      <th>SibSp</th>\n      <th>Parch</th>\n      <th>Ticket</th>\n      <th>Fare</th>\n      <th>Cabin</th>\n      <th>Embarked</th>\n    </tr>\n  </thead>\n  <tbody>\n    <tr>\n      <th>0</th>\n      <td>892</td>\n      <td>3</td>\n      <td>Kelly, Mr. James</td>\n      <td>male</td>\n      <td>34.5</td>\n      <td>0</td>\n      <td>0</td>\n      <td>330911</td>\n      <td>7.8292</td>\n      <td>NaN</td>\n      <td>Q</td>\n    </tr>\n    <tr>\n      <th>1</th>\n      <td>893</td>\n      <td>3</td>\n      <td>Wilkes, Mrs. James (Ellen Needs)</td>\n      <td>female</td>\n      <td>47.0</td>\n      <td>1</td>\n      <td>0</td>\n      <td>363272</td>\n      <td>7.0000</td>\n      <td>NaN</td>\n      <td>S</td>\n    </tr>\n    <tr>\n      <th>2</th>\n      <td>894</td>\n      <td>2</td>\n      <td>Myles, Mr. Thomas Francis</td>\n      <td>male</td>\n      <td>62.0</td>\n      <td>0</td>\n      <td>0</td>\n      <td>240276</td>\n      <td>9.6875</td>\n      <td>NaN</td>\n      <td>Q</td>\n    </tr>\n    <tr>\n      <th>3</th>\n      <td>895</td>\n      <td>3</td>\n      <td>Wirz, Mr. Albert</td>\n      <td>male</td>\n      <td>27.0</td>\n      <td>0</td>\n      <td>0</td>\n      <td>315154</td>\n      <td>8.6625</td>\n      <td>NaN</td>\n      <td>S</td>\n    </tr>\n    <tr>\n      <th>4</th>\n      <td>896</td>\n      <td>3</td>\n      <td>Hirvonen, Mrs. Alexander (Helga E Lindqvist)</td>\n      <td>female</td>\n      <td>22.0</td>\n      <td>1</td>\n      <td>1</td>\n      <td>3101298</td>\n      <td>12.2875</td>\n      <td>NaN</td>\n      <td>S</td>\n    </tr>\n  </tbody>\n</table>\n</div>"
     },
     "execution_count": 59,
     "metadata": {},
     "output_type": "execute_result"
    }
   ],
   "source": [
    "test.head()"
   ],
   "metadata": {
    "collapsed": false,
    "pycharm": {
     "name": "#%%\n"
    }
   }
  },
  {
   "cell_type": "code",
   "execution_count": 60,
   "outputs": [],
   "source": [
    "test[\"Survived\"] = ans"
   ],
   "metadata": {
    "collapsed": false,
    "pycharm": {
     "name": "#%%\n"
    }
   }
  },
  {
   "cell_type": "code",
   "execution_count": 69,
   "outputs": [],
   "source": [
    "result=pd.DataFrame()"
   ],
   "metadata": {
    "collapsed": false,
    "pycharm": {
     "name": "#%%\n"
    }
   }
  },
  {
   "cell_type": "code",
   "execution_count": 70,
   "outputs": [],
   "source": [
    "result[\"PassengerId\"] = test[\"PassengerId\"]\n",
    "result[\"Survived\"] = test[\"Survived\"]"
   ],
   "metadata": {
    "collapsed": false,
    "pycharm": {
     "name": "#%%\n"
    }
   }
  },
  {
   "cell_type": "code",
   "execution_count": 71,
   "outputs": [
    {
     "data": {
      "text/plain": "   PassengerId  Survived\n0          892         0\n1          893         1\n2          894         0\n3          895         0\n4          896         1",
      "text/html": "<div>\n<style scoped>\n    .dataframe tbody tr th:only-of-type {\n        vertical-align: middle;\n    }\n\n    .dataframe tbody tr th {\n        vertical-align: top;\n    }\n\n    .dataframe thead th {\n        text-align: right;\n    }\n</style>\n<table border=\"1\" class=\"dataframe\">\n  <thead>\n    <tr style=\"text-align: right;\">\n      <th></th>\n      <th>PassengerId</th>\n      <th>Survived</th>\n    </tr>\n  </thead>\n  <tbody>\n    <tr>\n      <th>0</th>\n      <td>892</td>\n      <td>0</td>\n    </tr>\n    <tr>\n      <th>1</th>\n      <td>893</td>\n      <td>1</td>\n    </tr>\n    <tr>\n      <th>2</th>\n      <td>894</td>\n      <td>0</td>\n    </tr>\n    <tr>\n      <th>3</th>\n      <td>895</td>\n      <td>0</td>\n    </tr>\n    <tr>\n      <th>4</th>\n      <td>896</td>\n      <td>1</td>\n    </tr>\n  </tbody>\n</table>\n</div>"
     },
     "execution_count": 71,
     "metadata": {},
     "output_type": "execute_result"
    }
   ],
   "source": [
    "result.head()"
   ],
   "metadata": {
    "collapsed": false,
    "pycharm": {
     "name": "#%%\n"
    }
   }
  },
  {
   "cell_type": "code",
   "execution_count": 77,
   "outputs": [],
   "source": [
    "result = result.set_index(\"PassengerId\")"
   ],
   "metadata": {
    "collapsed": false,
    "pycharm": {
     "name": "#%%\n"
    }
   }
  },
  {
   "cell_type": "code",
   "execution_count": 78,
   "outputs": [
    {
     "data": {
      "text/plain": "             Survived\nPassengerId          \n892                 0\n893                 1\n894                 0\n895                 0\n896                 1",
      "text/html": "<div>\n<style scoped>\n    .dataframe tbody tr th:only-of-type {\n        vertical-align: middle;\n    }\n\n    .dataframe tbody tr th {\n        vertical-align: top;\n    }\n\n    .dataframe thead th {\n        text-align: right;\n    }\n</style>\n<table border=\"1\" class=\"dataframe\">\n  <thead>\n    <tr style=\"text-align: right;\">\n      <th></th>\n      <th>Survived</th>\n    </tr>\n    <tr>\n      <th>PassengerId</th>\n      <th></th>\n    </tr>\n  </thead>\n  <tbody>\n    <tr>\n      <th>892</th>\n      <td>0</td>\n    </tr>\n    <tr>\n      <th>893</th>\n      <td>1</td>\n    </tr>\n    <tr>\n      <th>894</th>\n      <td>0</td>\n    </tr>\n    <tr>\n      <th>895</th>\n      <td>0</td>\n    </tr>\n    <tr>\n      <th>896</th>\n      <td>1</td>\n    </tr>\n  </tbody>\n</table>\n</div>"
     },
     "execution_count": 78,
     "metadata": {},
     "output_type": "execute_result"
    }
   ],
   "source": [
    "result.head()"
   ],
   "metadata": {
    "collapsed": false,
    "pycharm": {
     "name": "#%%\n"
    }
   }
  },
  {
   "cell_type": "code",
   "execution_count": 80,
   "outputs": [],
   "source": [
    "result.to_csv(\"result.csv\")"
   ],
   "metadata": {
    "collapsed": false,
    "pycharm": {
     "name": "#%%\n"
    }
   }
  },
  {
   "cell_type": "code",
   "execution_count": null,
   "outputs": [],
   "source": [],
   "metadata": {
    "collapsed": false,
    "pycharm": {
     "name": "#%%\n"
    }
   }
  }
 ],
 "metadata": {
  "kernelspec": {
   "display_name": "Python 3",
   "language": "python",
   "name": "python3"
  },
  "language_info": {
   "codemirror_mode": {
    "name": "ipython",
    "version": 2
   },
   "file_extension": ".py",
   "mimetype": "text/x-python",
   "name": "python",
   "nbconvert_exporter": "python",
   "pygments_lexer": "ipython2",
   "version": "2.7.6"
  }
 },
 "nbformat": 4,
 "nbformat_minor": 0
}